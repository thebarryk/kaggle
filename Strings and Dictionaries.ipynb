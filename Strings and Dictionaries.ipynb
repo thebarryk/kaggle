{
 "cells": [
  {
   "cell_type": "markdown",
   "id": "5a67bfcb",
   "metadata": {},
   "source": [
    "# Exercise: Strings and Dictionaries\n",
    "From https://www.kaggle.com/barrykrawchuk/exercise-strings-and-dictionaries/edit"
   ]
  },
  {
   "cell_type": "markdown",
   "id": "8c1279de",
   "metadata": {},
   "source": [
    "Let's start with a string lightning round to warm up. What are the lengths of the strings below?\n",
    "\n",
    "For each of the five strings below, predict what `len()` would return when passed that string. Use the variable `length` to record your answer, then run the cell to check whether you were right.  \n",
    "\n",
    "# 0a."
   ]
  },
  {
   "cell_type": "code",
   "execution_count": 1,
   "id": "873d0e47",
   "metadata": {},
   "outputs": [],
   "source": [
    "a = \"\"\n",
    "length = 0"
   ]
  },
  {
   "cell_type": "markdown",
   "id": "87a07380",
   "metadata": {},
   "source": [
    "## 1.\n",
    "\n",
    "There is a saying that \"Data scientists spend 80% of their time cleaning data, and 20% of their time complaining about cleaning data.\" Let's see if you can write a function to help clean US zip code data. Given a string, it should return whether or not that string represents a valid zip code. For our purposes, a valid zip code is any string consisting of exactly 5 digits.\n",
    "\n",
    "HINT: `str` has a method that will be useful here. Use `help(str)` to review a list of string methods."
   ]
  },
  {
   "cell_type": "code",
   "execution_count": 3,
   "id": "d1e4b343",
   "metadata": {},
   "outputs": [
    {
     "data": {
      "text/plain": [
       "True"
      ]
     },
     "execution_count": 3,
     "metadata": {},
     "output_type": "execute_result"
    }
   ],
   "source": [
    "def is_valid_zip(zip_code):\n",
    "    \"\"\"Returns whether the input string is a valid (5 digit) zip code\n",
    "    \"\"\"\n",
    "    return sum([ d in '0123456789' for d in zip_code ]) == 5\n",
    "is_valid_zip('12345')"
   ]
  },
  {
   "cell_type": "markdown",
   "id": "76aecf03",
   "metadata": {},
   "source": [
    "## 2.\n",
    "\n",
    "A researcher has gathered thousands of news articles. But she wants to focus her attention on articles including a specific word. Complete the function below to help her filter her list of articles.\n",
    "\n",
    "Your function should meet the following criteria:\n",
    "\n",
    "- Do not include documents where the keyword string shows up only as a part of a larger word. For example, if she were looking for the keyword “closed”, you would not include the string “enclosed.” \n",
    "- She does not want you to distinguish upper case from lower case letters. So the phrase “Closed the case.” would be included when the keyword is “closed”\n",
    "- Do not let periods or commas affect what is matched. “It is closed.” would be included when the keyword is “closed”. But you can assume there are no other types of punctuation."
   ]
  },
  {
   "cell_type": "code",
   "execution_count": 6,
   "id": "d60a5339",
   "metadata": {},
   "outputs": [],
   "source": [
    "def word_search(doc_list, keyword):\n",
    "    \"\"\"\n",
    "    Takes a list of documents (each document is a string) and a keyword. \n",
    "    Returns list of the index values into the original list for all documents \n",
    "    containing the keyword.\n",
    "\n",
    "    Example:\n",
    "    doc_list = [\"The Learn Python Challenge Casino.\", \"They bought a car\", \"Casinoville\"]\n",
    "    >>> word_search(doc_list, 'casino')\n",
    "    >>> [0]\n",
    "    \"\"\"\n",
    "    found_docs = []\n",
    "    \n",
    "    def find(doc):\n",
    "        for word in doc.split():\n",
    "            if word.rstrip(\",.\").lower() == keyword:\n",
    "                return True\n",
    "                break\n",
    "        return False\n",
    "    \n",
    "    for i, doc in enumerate(doc_list):\n",
    "\n",
    "        if find(doc):\n",
    "            found_docs.append(i)\n",
    "    \n",
    "    return found_docs"
   ]
  },
  {
   "cell_type": "markdown",
   "id": "fe043241",
   "metadata": {},
   "source": [
    "## 3.\n",
    "\n",
    "Now the researcher wants to supply multiple keywords to search for. Complete the function below to help her.\n",
    "\n",
    "(You're encouraged to use the `word_search` function you just wrote when implementing this function. Reusing code in this way makes your programs more robust and readable - and it saves typing!)\n",
    "\n",
    "Takes list of documents (each document is a string) and a list of keywords.  \n",
    "    Returns a dictionary where each key is a keyword, and the value is a list of indices\n",
    "    (from doc_list) of the documents containing that keyword\n",
    "\n",
    "    >>> doc_list = [\"The Learn Python Challenge Casino.\", \"They bought a car and a casino\", \"Casinoville\"]\n",
    "    >>> keywords = ['casino', 'they']\n",
    "    >>> multi_word_search(doc_list, keywords)\n",
    "    {'casino': [0, 1], 'they': [1]}"
   ]
  },
  {
   "cell_type": "code",
   "execution_count": null,
   "id": "f985994b",
   "metadata": {},
   "outputs": [],
   "source": [
    "def multi_word_search(doc_list, keywords):\n",
    "    \"\"\"\n",
    "    Takes list of documents (each document is a string) and a list of keywords.  \n",
    "    Returns a dictionary where each key is a keyword, and the value is a list of indices\n",
    "    (from doc_list) of the documents containing that keyword\n",
    "\n",
    "    >>> doc_list = [\"The Learn Python Challenge Casino.\", \"They bought a car and a casino\", \"Casinoville\"]\n",
    "    >>> keywords = ['casino', 'they']\n",
    "    >>> multi_word_search(doc_list, keywords)\n",
    "    {'casino': [0, 1], 'they': [1]}\n",
    "    \"\"\"\n",
    "    docs = {}\n",
    "    \n",
    "    def find(key, doc):\n",
    "        for word in doc.split():\n",
    "            if word.rstrip(\",.\").lower() == key:\n",
    "                return True\n",
    "        return False\n",
    "    \n",
    "    for key in keywords:\n",
    "        lst = []\n",
    "        for i, doc in enumerate(doc_list):\n",
    "            if find(key, doc):\n",
    "                lst.append(i)\n",
    "        docs[key] = lst\n",
    "    return docs\n",
    "\n",
    "# Check your answer\n",
    "q3.check()"
   ]
  }
 ],
 "metadata": {
  "kernelspec": {
   "display_name": "Python [conda env:test]",
   "language": "python",
   "name": "conda-env-test-py"
  },
  "language_info": {
   "codemirror_mode": {
    "name": "ipython",
    "version": 3
   },
   "file_extension": ".py",
   "mimetype": "text/x-python",
   "name": "python",
   "nbconvert_exporter": "python",
   "pygments_lexer": "ipython3",
   "version": "3.9.6"
  }
 },
 "nbformat": 4,
 "nbformat_minor": 5
}
