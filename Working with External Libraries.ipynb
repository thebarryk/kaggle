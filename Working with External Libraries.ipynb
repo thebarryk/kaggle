{
 "cells": [
  {
   "cell_type": "markdown",
   "id": "67ceafeb",
   "metadata": {},
   "source": [
    "# Exercise: Working with External Libraries\n",
    "See https://www.kaggle.com/barrykrawchuk/exercise-working-with-external-libraries/edit"
   ]
  },
  {
   "cell_type": "markdown",
   "id": "25e9d8ef",
   "metadata": {},
   "source": [
    "## 1.\n",
    "\n",
    "After completing the exercises on lists and tuples, Jimmy noticed that, according to his `estimate_average_slot_payout` function, the slot machines at the Learn Python Casino are actually rigged *against* the house, and are profitable to play in the long run.\n",
    "\n",
    "Starting with $200 in his pocket, Jimmy has played the slots 500 times, recording his new balance in a list after each spin. He used Python's `matplotlib` library to make a graph of his balance over time:"
   ]
  },
  {
   "cell_type": "markdown",
   "id": "59e2d1c3",
   "metadata": {},
   "source": [
    "# 3. <span title=\"A bit spicy\" style=\"color: darkgreen \">🌶️</span>\n",
    "\n",
    "Suppose we wanted to create a new type to represent hands in blackjack. One thing we might want to do with this type is overload the comparison operators like `>` and `<=` so that we could use them to check whether one hand beats another. e.g. it'd be cool if we could do this:\n",
    "\n",
    "```python\n",
    ">>> hand1 = BlackjackHand(['K', 'A'])\n",
    ">>> hand2 = BlackjackHand(['7', '10', 'A'])\n",
    ">>> hand1 > hand2\n",
    "True\n",
    "```\n",
    "\n",
    "Well, we're not going to do all that in this question (defining custom classes is a bit beyond the scope of these lessons), but the code we're asking you to write in the function below is very similar to what we'd have to write if we were defining our own `BlackjackHand` class. (We'd put it in the `__gt__` magic method to define our custom behaviour for `>`.)\n",
    "\n",
    "Fill in the body of the `blackjack_hand_greater_than` function according to the docstring."
   ]
  },
  {
   "cell_type": "code",
   "execution_count": 107,
   "id": "69fe7f7f",
   "metadata": {},
   "outputs": [],
   "source": [
    "def blackjack_hand_greater_than(hand_1, hand_2):\n",
    "    \"\"\"\n",
    "    Return True if hand_1 beats hand_2, and False otherwise.\n",
    "    \n",
    "    In order for hand_1 to beat hand_2 the following must be true:\n",
    "    - The total of hand_1 must not exceed 21\n",
    "    - The total of hand_1 must exceed the total of hand_2 OR hand_2's total must exceed 21\n",
    "    \n",
    "    Hands are represented as a list of cards. Each card is represented by a string.\n",
    "    \n",
    "    When adding up a hand's total, cards with numbers count for that many points. Face\n",
    "    cards ('J', 'Q', and 'K') are worth 10 points. 'A' can count for 1 or 11.\n",
    "    \n",
    "    When determining a hand's total, you should try to count aces in the way that \n",
    "    maximizes the hand's total without going over 21. e.g. the total of ['A', 'A', '9'] is 21,\n",
    "    the total of ['A', 'A', '9', '3'] is 14.\n",
    "    \n",
    "    Examples:\n",
    "    >>> blackjack_hand_greater_than(['K'], ['3', '4'])\n",
    "    True\n",
    "    >>> blackjack_hand_greater_than(['K'], ['10'])\n",
    "    False\n",
    "    >>> blackjack_hand_greater_than(['K', 'K', '2'], ['3'])\n",
    "    False\n",
    "    \"\"\"\n",
    "\n",
    "    numbers = ['2', '3', '4', '5', '6', '7', '8', '9', '10']\n",
    "    faces   = ['j', 'q', 'k']\n",
    "    aces    = ['a']\n",
    "\n",
    "    def value(hand):\n",
    "        s1 = sum([int(x) for x in hand if x.lower() in numbers]) \n",
    "        s2 = sum([10 for x in hand if x.lower() in faces]) \n",
    "        s3 = sum([1 for x in hand if x.lower() in aces])\n",
    "        s = s1+s2+s3\n",
    "#         print(s1, s2, s3)\n",
    "\n",
    "        return s + 9 if (s + 9 <= 21) and (s3 >0) else s\n",
    "               \n",
    "    v1 = value(hand_1)\n",
    "    v2 = value(hand_2)\n",
    "#     print(f\"v1: {v1}  v2: {v2}\\n\")\n",
    "    \n",
    "    if v1 > 21:\n",
    "        return False\n",
    "    elif v2 > 21:\n",
    "        return True\n",
    "    else:\n",
    "        return v1 > v2 \n"
   ]
  },
  {
   "cell_type": "code",
   "execution_count": 108,
   "id": "765adab5",
   "metadata": {},
   "outputs": [
    {
     "name": "stdout",
     "output_type": "stream",
     "text": [
      "0 10 0\n",
      "7 0 0\n",
      "v1: 10  v2: 7\n",
      "\n",
      "False\n",
      "0 10 0\n",
      "10 0 0\n",
      "v1: 10  v2: 10\n",
      "\n",
      "False\n",
      "2 20 0\n",
      "3 0 0\n",
      "v1: 22  v2: 3\n",
      "\n",
      "False\n",
      "2 10 0\n",
      "3 10 0\n",
      "v1: 12  v2: 13\n",
      "\n",
      "True\n"
     ]
    }
   ],
   "source": [
    "print(blackjack_hand_greater_than(['K'], ['3', '4']))\n",
    "print(blackjack_hand_greater_than(['K'], ['10']))\n",
    "print(blackjack_hand_greater_than(['K', 'K', '2'], ['3']))\n",
    "print(blackjack_hand_greater_than(['K', '2'], ['3', 'K']))"
   ]
  },
  {
   "cell_type": "code",
   "execution_count": 82,
   "id": "f4d610ff",
   "metadata": {},
   "outputs": [],
   "source": [
    "numbers = ['2', '3', '4', '5', '6', '7', '8', '9', '10']\n",
    "faces   = ['j', 'q', 'k']\n",
    "aces    = ['a']\n",
    "def value(hand):\n",
    "    s1 = sum([int(x) for x in hand if x in numbers]) \n",
    "    s2 = sum([10 for x in hand if x in faces]) \n",
    "    s3 = sum([1 for x in hand if x in aces])\n",
    "    s = s1+s2+s3\n",
    "    print(s1, s2, s3, 'total:', s)"
   ]
  },
  {
   "cell_type": "code",
   "execution_count": 83,
   "id": "8e3d013c",
   "metadata": {
    "scrolled": true
   },
   "outputs": [
    {
     "name": "stdout",
     "output_type": "stream",
     "text": [
      "['2', '5', '2', 'a', 'a']\n",
      "19 0 1 total: 20\n"
     ]
    }
   ],
   "source": [
    "hand = '2 5 2 a a'.split()\n",
    "print(hand)\n",
    "value('2 5 2 a 10'.split())\n"
   ]
  },
  {
   "cell_type": "code",
   "execution_count": 50,
   "id": "ce434568",
   "metadata": {},
   "outputs": [
    {
     "name": "stdout",
     "output_type": "stream",
     "text": [
      "[1, 10]\n"
     ]
    }
   ],
   "source": [
    "r = [1, 10]\n",
    "v = []\n",
    "s = 0\n",
    "for i in r:\n",
    "    s = i \n",
    "    if not (s in v) and (s < 22-4*2):\n",
    "        v.append(s)\n",
    "        s = 0\n",
    "        \n",
    "print(v)"
   ]
  },
  {
   "cell_type": "code",
   "execution_count": 46,
   "id": "cd22217f",
   "metadata": {},
   "outputs": [
    {
     "name": "stdout",
     "output_type": "stream",
     "text": [
      "[2, 11, 20]\n"
     ]
    }
   ],
   "source": [
    "r = [1, 10]\n",
    "v = []\n",
    "s = 0\n",
    "for i in r:\n",
    "    for j in r:\n",
    "        s = i + j\n",
    "        if not (s in v) and (s < 22-3*2):\n",
    "            v.append(s)\n",
    "            s = 0\n",
    "        \n",
    "print(v)"
   ]
  },
  {
   "cell_type": "code",
   "execution_count": 47,
   "id": "e2cdcde4",
   "metadata": {},
   "outputs": [
    {
     "name": "stdout",
     "output_type": "stream",
     "text": [
      "[3, 12, 21]\n"
     ]
    }
   ],
   "source": [
    "r = [1, 10]\n",
    "v = []\n",
    "s = 0\n",
    "for i in r:\n",
    "    for j in r:\n",
    "        for k in r:\n",
    "            s = i + j + k\n",
    "            if not (s in v) and (s < 22-2*2):\n",
    "                v.append(s)\n",
    "                s = 0\n",
    "        \n",
    "print(v)"
   ]
  },
  {
   "cell_type": "code",
   "execution_count": 48,
   "id": "307e6f60",
   "metadata": {},
   "outputs": [
    {
     "name": "stdout",
     "output_type": "stream",
     "text": [
      "[4, 13]\n"
     ]
    }
   ],
   "source": [
    "r = [1, 10]\n",
    "v = []\n",
    "s = 0\n",
    "for i in r:\n",
    "    for j in r:\n",
    "        for k in r:\n",
    "            for l in r:\n",
    "                s = i + j + k + l\n",
    "                if not (s in v) and (s < 22):\n",
    "                    v.append(s)\n",
    "                    s = 0\n",
    "        \n",
    "print(v)"
   ]
  },
  {
   "cell_type": "code",
   "execution_count": 49,
   "id": "5eec9cb7",
   "metadata": {},
   "outputs": [
    {
     "name": "stdout",
     "output_type": "stream",
     "text": [
      "[5, 14]\n"
     ]
    }
   ],
   "source": [
    "r = [1, 10]\n",
    "v = []\n",
    "s = 0\n",
    "for i in r:\n",
    "    for j in r:\n",
    "        for k in r:\n",
    "            for l in r:\n",
    "                for m in r:\n",
    "                    s = i + j + k + l + m\n",
    "                    if not (s in v) and (s < 22):\n",
    "                        v.append(s)\n",
    "                        s = 0\n",
    "        \n",
    "print(v)"
   ]
  },
  {
   "cell_type": "code",
   "execution_count": null,
   "id": "977ae9b7",
   "metadata": {},
   "outputs": [],
   "source": []
  }
 ],
 "metadata": {
  "kernelspec": {
   "display_name": "Python [conda env:test]",
   "language": "python",
   "name": "conda-env-test-py"
  },
  "language_info": {
   "codemirror_mode": {
    "name": "ipython",
    "version": 3
   },
   "file_extension": ".py",
   "mimetype": "text/x-python",
   "name": "python",
   "nbconvert_exporter": "python",
   "pygments_lexer": "ipython3",
   "version": "3.9.6"
  }
 },
 "nbformat": 4,
 "nbformat_minor": 5
}
