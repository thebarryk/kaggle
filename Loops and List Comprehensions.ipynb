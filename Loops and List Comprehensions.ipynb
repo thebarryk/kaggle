{
 "cells": [
  {
   "cell_type": "markdown",
   "id": "051172f1",
   "metadata": {},
   "source": [
    "# Lists"
   ]
  },
  {
   "cell_type": "markdown",
   "id": "105aa325",
   "metadata": {},
   "source": [
    "### Loops\n",
    "Loops are a way to repeatedly execute some code. Here's an example:"
   ]
  },
  {
   "cell_type": "code",
   "execution_count": 7,
   "id": "3d8874b2",
   "metadata": {},
   "outputs": [
    {
     "name": "stdout",
     "output_type": "stream",
     "text": [
      "Mercury Venus Earth Mars Jupiter Saturn Uranus Neptune "
     ]
    }
   ],
   "source": [
    "planets = ['Mercury', 'Venus', 'Earth', 'Mars', 'Jupiter', 'Saturn', 'Uranus', 'Neptune']\n",
    "for planet in planets:\n",
    "    print(planet, end=' ') # print all on same line"
   ]
  },
  {
   "cell_type": "markdown",
   "id": "232a8840",
   "metadata": {},
   "source": [
    "The for loop specifies\n",
    "- the variable name to use (in this case, planet)\n",
    "- the set of values to loop over (in this case, planets)\n",
    "You use the word \"in\" to link them together.\n",
    "\n",
    "The object to the right of the \"in\" can be any object that supports iteration. Basically, if it can be thought of as a group of things, you can probably loop over it. In addition to lists, we can iterate over the elements of a tuple:"
   ]
  },
  {
   "cell_type": "code",
   "execution_count": 9,
   "id": "84ff0ef4",
   "metadata": {},
   "outputs": [
    {
     "data": {
      "text/plain": [
       "360"
      ]
     },
     "execution_count": 9,
     "metadata": {},
     "output_type": "execute_result"
    }
   ],
   "source": [
    "multiplicands = (2, 2, 2, 3, 3, 5)\n",
    "product = 1\n",
    "for mult in multiplicands:\n",
    "    product = product * mult\n",
    "product"
   ]
  },
  {
   "cell_type": "markdown",
   "id": "a3a33013",
   "metadata": {},
   "source": [
    "You can even loop through each character in a string:"
   ]
  },
  {
   "cell_type": "code",
   "execution_count": 10,
   "id": "fa543cae",
   "metadata": {},
   "outputs": [
    {
     "name": "stdout",
     "output_type": "stream",
     "text": [
      "HELLO"
     ]
    }
   ],
   "source": [
    "s = 'steganograpHy is the practicE of conceaLing a file, message, image, or video within another fiLe, message, image, Or video.'\n",
    "msg = ''\n",
    "# print all the uppercase letters in s, one at a time\n",
    "for char in s:\n",
    "    if char.isupper():\n",
    "        print(char, end='')      "
   ]
  },
  {
   "cell_type": "markdown",
   "id": "568bcd0f",
   "metadata": {},
   "source": [
    "#### range()\n",
    "range() is a function that returns a sequence of numbers. It turns out to be very useful for writing loops.\n",
    "\n",
    "For example, if we want to repeat some action 5 times:"
   ]
  },
  {
   "cell_type": "code",
   "execution_count": 11,
   "id": "f9fcc796",
   "metadata": {},
   "outputs": [
    {
     "name": "stdout",
     "output_type": "stream",
     "text": [
      "Doing important work. i = 0\n",
      "Doing important work. i = 1\n",
      "Doing important work. i = 2\n",
      "Doing important work. i = 3\n",
      "Doing important work. i = 4\n"
     ]
    }
   ],
   "source": [
    "for i in range(5):\n",
    "    print(\"Doing important work. i =\", i)"
   ]
  },
  {
   "cell_type": "markdown",
   "id": "61477240",
   "metadata": {},
   "source": [
    "while **loops**\n",
    "<p>The other type of loop in Python is a while loop, which iterates until some condition is met:</p>"
   ]
  },
  {
   "cell_type": "code",
   "execution_count": 12,
   "id": "76fb58d5",
   "metadata": {},
   "outputs": [
    {
     "name": "stdout",
     "output_type": "stream",
     "text": [
      "0 1 2 3 4 5 6 7 8 9 "
     ]
    }
   ],
   "source": [
    "i = 0\n",
    "while i < 10:\n",
    "    print(i, end=' ')\n",
    "    i += 1 # increase the value of i by 1"
   ]
  },
  {
   "cell_type": "markdown",
   "id": "f5f30055",
   "metadata": {},
   "source": [
    "The argument of the while loop is evaluated as a boolean statement, and the loop is executed until the statement evaluates to False."
   ]
  },
  {
   "cell_type": "markdown",
   "id": "ddbb70b2",
   "metadata": {},
   "source": [
    "### List comprehensions\n",
    "List comprehensions are one of Python's most beloved and unique features. The easiest way to understand them is probably to just look at a few examples:"
   ]
  },
  {
   "cell_type": "code",
   "execution_count": 13,
   "id": "2419b661",
   "metadata": {},
   "outputs": [
    {
     "data": {
      "text/plain": [
       "[0, 1, 4, 9, 16, 25, 36, 49, 64, 81]"
      ]
     },
     "execution_count": 13,
     "metadata": {},
     "output_type": "execute_result"
    }
   ],
   "source": [
    "squares = [n**2 for n in range(10)]\n",
    "squares"
   ]
  },
  {
   "cell_type": "markdown",
   "id": "8da7edf5",
   "metadata": {},
   "source": [
    "Here's how we would do the same thing without a list comprehension:"
   ]
  },
  {
   "cell_type": "code",
   "execution_count": 14,
   "id": "04a014df",
   "metadata": {},
   "outputs": [
    {
     "data": {
      "text/plain": [
       "[0, 1, 4, 9, 16, 25, 36, 49, 64, 81]"
      ]
     },
     "execution_count": 14,
     "metadata": {},
     "output_type": "execute_result"
    }
   ],
   "source": [
    "squares = []\n",
    "for n in range(10):\n",
    "    squares.append(n**2)\n",
    "squares"
   ]
  },
  {
   "cell_type": "markdown",
   "id": "1e9c78d2",
   "metadata": {},
   "source": [
    "We can also add an if condition:"
   ]
  },
  {
   "cell_type": "code",
   "execution_count": 15,
   "id": "4427ba45",
   "metadata": {},
   "outputs": [
    {
     "data": {
      "text/plain": [
       "['Venus', 'Earth', 'Mars']"
      ]
     },
     "execution_count": 15,
     "metadata": {},
     "output_type": "execute_result"
    }
   ],
   "source": [
    "short_planets = [planet for planet in planets if len(planet) < 6]\n",
    "short_planets"
   ]
  },
  {
   "cell_type": "code",
   "execution_count": 21,
   "id": "61f33779",
   "metadata": {},
   "outputs": [
    {
     "data": {
      "text/plain": [
       "['Mercury', 'Venus', 'Earth', 'MARS', 'Jupiter', 'Saturn', 'Uranus', 'Neptune']"
      ]
     },
     "execution_count": 21,
     "metadata": {},
     "output_type": "execute_result"
    }
   ],
   "source": [
    "[planet.upper() if len(planet)<5 else planet for planet in planets]"
   ]
  },
  {
   "cell_type": "markdown",
   "id": "c075ac92",
   "metadata": {},
   "source": [
    "(If you're familiar with SQL, you might think of this as being like a \"WHERE\" clause)\n",
    "\n",
    "Here's an example of filtering with an if condition and applying some transformation to the loop variable:"
   ]
  },
  {
   "cell_type": "code",
   "execution_count": 22,
   "id": "b5ebda2e",
   "metadata": {},
   "outputs": [
    {
     "data": {
      "text/plain": [
       "['VENUS!', 'EARTH!', 'MARS!']"
      ]
     },
     "execution_count": 22,
     "metadata": {},
     "output_type": "execute_result"
    }
   ],
   "source": [
    "# str.upper() returns an all-caps version of a string\n",
    "loud_short_planets = [planet.upper() + '!' for planet in planets if len(planet) < 6]\n",
    "loud_short_planets"
   ]
  },
  {
   "cell_type": "markdown",
   "id": "a8649925",
   "metadata": {},
   "source": [
    "People usually write these on a single line, but you might find the structure clearer when it's split up over 3 lines:"
   ]
  },
  {
   "cell_type": "code",
   "execution_count": 23,
   "id": "503c3bed",
   "metadata": {},
   "outputs": [
    {
     "data": {
      "text/plain": [
       "['VENUS!', 'EARTH!', 'MARS!']"
      ]
     },
     "execution_count": 23,
     "metadata": {},
     "output_type": "execute_result"
    }
   ],
   "source": [
    "[\n",
    "    planet.upper() + '!' \n",
    "    for planet in planets \n",
    "    if len(planet) < 6\n",
    "]"
   ]
  },
  {
   "cell_type": "markdown",
   "id": "c4c70f9d",
   "metadata": {},
   "source": [
    "(Continuing the SQL analogy, you could think of these three lines as SELECT, FROM, and WHERE)\n",
    "\n",
    "The expression on the left doesn't technically have to involve the loop variable (though it'd be pretty unusual for it not to). What do you think the expression below will evaluate to? Press the 'output' button to check."
   ]
  },
  {
   "cell_type": "code",
   "execution_count": 24,
   "id": "15e9de4d",
   "metadata": {},
   "outputs": [
    {
     "data": {
      "text/plain": [
       "[32, 32, 32, 32, 32, 32, 32, 32]"
      ]
     },
     "execution_count": 24,
     "metadata": {},
     "output_type": "execute_result"
    }
   ],
   "source": [
    "[32 for planet in planets]"
   ]
  },
  {
   "cell_type": "markdown",
   "id": "478a14fe",
   "metadata": {},
   "source": [
    "List comprehensions combined with functions like min, max, and sum can lead to impressive one-line solutions for problems that would otherwise require several lines of code.\n",
    "\n",
    "For example, compare the following two cells of code that do the same thing."
   ]
  },
  {
   "cell_type": "code",
   "execution_count": 25,
   "id": "31436674",
   "metadata": {},
   "outputs": [],
   "source": [
    "def count_negatives(nums):\n",
    "    \"\"\"Return the number of negative numbers in the given list.\n",
    "    \n",
    "    >>> count_negatives([5, -1, -2, 0, 3])\n",
    "    2\n",
    "    \"\"\"\n",
    "    n_negative = 0\n",
    "    for num in nums:\n",
    "        if num < 0:\n",
    "            n_negative = n_negative + 1\n",
    "    return n_negative"
   ]
  },
  {
   "cell_type": "markdown",
   "id": "57c72c40",
   "metadata": {},
   "source": [
    "Here's a solution using a list comprehension:"
   ]
  },
  {
   "cell_type": "code",
   "execution_count": 26,
   "id": "e46745a9",
   "metadata": {},
   "outputs": [],
   "source": [
    "def count_negatives(nums):\n",
    "    return len([num for num in nums if num < 0])"
   ]
  },
  {
   "cell_type": "markdown",
   "id": "d2bfdef4",
   "metadata": {},
   "source": [
    "Much better, right?\n",
    "\n",
    "Well if all we care about is minimizing the length of our code, this third solution is better still!"
   ]
  },
  {
   "cell_type": "code",
   "execution_count": 27,
   "id": "80454030",
   "metadata": {},
   "outputs": [],
   "source": [
    "def count_negatives(nums):\n",
    "    # Reminder: in the \"booleans and conditionals\" exercises, we learned about a quirk of \n",
    "    # Python where it calculates something like True + True + False + True to be equal to 3.\n",
    "    return sum([num < 0 for num in nums])"
   ]
  },
  {
   "cell_type": "markdown",
   "id": "e1cbef08",
   "metadata": {},
   "source": [
    "Which of these solutions is the \"best\" is entirely subjective. Solving a problem with less code is always nice, but it's worth keeping in mind the following lines from [The Zen of Python:](https://en.wikipedia.org/wiki/Zen_of_Python)\n",
    "\n",
    "Readability counts.\n",
    "Explicit is better than implicit.\n",
    "\n",
    "So, use these tools to make compact readable programs. But when you have to choose, favor code that is easy for others to understand."
   ]
  },
  {
   "cell_type": "code",
   "execution_count": 28,
   "id": "7107ff50",
   "metadata": {},
   "outputs": [],
   "source": [
    "def count_negatives(nums):\n",
    "    s = 0\n",
    "    for x in nums:\n",
    "        s += (x < 0 )\n",
    "    return s"
   ]
  },
  {
   "cell_type": "markdown",
   "id": "5939fbc7",
   "metadata": {},
   "source": [
    "# Exercise: Loops and List Comprehension"
   ]
  },
  {
   "cell_type": "markdown",
   "id": "6b8b0fd3",
   "metadata": {},
   "source": [
    "## 1.\n",
    "\n",
    "Have you ever felt debugging involved a bit of luck? The following program has a bug. Try to identify the bug and fix it."
   ]
  },
  {
   "cell_type": "code",
   "execution_count": 29,
   "id": "121d4242",
   "metadata": {},
   "outputs": [],
   "source": [
    "def has_lucky_number(nums):\n",
    "    \"\"\"Return whether the given list of numbers is lucky. A lucky list contains\n",
    "    at least one number divisible by 7.\n",
    "    \"\"\"\n",
    "    for num in nums:\n",
    "        if num % 7 == 0:\n",
    "            return True\n",
    "        else:\n",
    "            return False"
   ]
  },
  {
   "cell_type": "code",
   "execution_count": 30,
   "id": "d40cec06",
   "metadata": {},
   "outputs": [],
   "source": [
    "# Here's an alternative \n",
    "def has_lucky_number(nums):\n",
    "    return any([num % 7 for num in nums])"
   ]
  },
  {
   "cell_type": "markdown",
   "id": "bd057e4b",
   "metadata": {},
   "source": [
    "R and Python have some libraries (like numpy and pandas) compare each element of the list to 2 (i.e. do an 'element-wise' comparison) and give us a list of booleans like [False, False, True, True].\n",
    "\n",
    "Implement a function that reproduces this behaviour, returning a list of booleans corresponding to whether the corresponding element is greater than n."
   ]
  },
  {
   "cell_type": "code",
   "execution_count": 31,
   "id": "6cee5188",
   "metadata": {},
   "outputs": [],
   "source": [
    "def elementwise_greater_than(L, thresh):\n",
    "    \"\"\"Return a list with the same length as L, where the value at index i is \n",
    "    True if L[i] is greater than thresh, and False otherwise.\n",
    "    \n",
    "    >>> elementwise_greater_than([1, 2, 3, 4], 2)\n",
    "    [False, False, True, True]\n",
    "    \"\"\"\n",
    "    return [x > thresh for x in L]\n",
    "\n",
    "elementwise_greater_than([1, 2, 3, 4], 2)"
   ]
  },
  {
   "cell_type": "markdown",
   "id": "4cb7ebfb",
   "metadata": {},
   "source": [
    "## 3.\n",
    "\n",
    "Complete the body of the function below according to its docstring."
   ]
  },
  {
   "cell_type": "code",
   "execution_count": null,
   "id": "51864ac6",
   "metadata": {},
   "outputs": [],
   "source": [
    "def menu_is_boring(meals):\n",
    "    \"\"\"Given a list of meals served over some period of time, return True if the\n",
    "    same meal has ever been served two days in a row, and False otherwise.\n",
    "    \"\"\"\n",
    "    return sum([meals[i]==meals[i+1] for i in range(len(meals)-1)]) != 0"
   ]
  },
  {
   "cell_type": "markdown",
   "id": "ab64fe45",
   "metadata": {},
   "source": [
    "## 4. 🌶️\n",
    "Next to the Blackjack table, the Python Challenge Casino has a slot machine. You can get a result from the slot machine by calling play_slot_machine(). The number it returns is your winnings in dollars. Usually it returns 0. But sometimes you'll get lucky and get a big payday. Try running it below:"
   ]
  },
  {
   "cell_type": "code",
   "execution_count": 40,
   "id": "311f7750",
   "metadata": {},
   "outputs": [
    {
     "data": {
      "text/plain": [
       "1.5"
      ]
     },
     "execution_count": 40,
     "metadata": {},
     "output_type": "execute_result"
    }
   ],
   "source": [
    "from statistics import mean\n",
    "mean([1,1,2,2])"
   ]
  },
  {
   "cell_type": "code",
   "execution_count": 43,
   "id": "b8304427",
   "metadata": {},
   "outputs": [],
   "source": [
    "def estimate_average_slot_payout(n_runs):\n",
    "    \"\"\"Run the slot machine n_runs times and return the average net profit per run.\n",
    "    Example calls (note that return value is nondeterministic!):\n",
    "    >>> estimate_average_slot_payout(1)\n",
    "    -1\n",
    "    >>> estimate_average_slot_payout(1)\n",
    "    0.5\n",
    "    \"\"\"\n",
    "    if n_runs > 0:\n",
    "        return sum([play_slot_machine()-1 for n in range(n_runs) ])/n_runs\n",
    "    return 0\n",
    "        "
   ]
  },
  {
   "cell_type": "code",
   "execution_count": null,
   "id": "b98a9506",
   "metadata": {},
   "outputs": [],
   "source": []
  }
 ],
 "metadata": {
  "kernelspec": {
   "display_name": "Python [conda env:test]",
   "language": "python",
   "name": "conda-env-test-py"
  },
  "language_info": {
   "codemirror_mode": {
    "name": "ipython",
    "version": 3
   },
   "file_extension": ".py",
   "mimetype": "text/x-python",
   "name": "python",
   "nbconvert_exporter": "python",
   "pygments_lexer": "ipython3",
   "version": "3.9.6"
  }
 },
 "nbformat": 4,
 "nbformat_minor": 5
}
